{
 "cells": [
  {
   "cell_type": "code",
   "execution_count": 2,
   "metadata": {
    "dotnet_interactive": {
     "language": "csharp"
    },
    "polyglot_notebook": {
     "kernelName": "csharp"
    }
   },
   "outputs": [],
   "source": [
    "import pandas as pd\n",
    "import altair as alt\n",
    "import numpy as np\n",
    "import sqlite3"
   ]
  },
  {
   "attachments": {},
   "cell_type": "markdown",
   "metadata": {},
   "source": [
    "# Create DataBase and Add Table"
   ]
  },
  {
   "cell_type": "code",
   "execution_count": 14,
   "metadata": {
    "dotnet_interactive": {
     "language": "csharp"
    },
    "polyglot_notebook": {
     "kernelName": "csharp"
    }
   },
   "outputs": [],
   "source": [
    "conn = sqlite3.connect('Netflix.db')\n",
    "\n",
    "cur = conn.cursor()\n",
    "\n",
    "# cur.execute(\"\"\"CREATE TABLE NFLX (\n",
    "#     date string,\n",
    "#     low float,\n",
    "#     open float,\n",
    "#     volume integer,\n",
    "#     high float,\n",
    "#     close float\n",
    "# )\"\"\")"
   ]
  },
  {
   "attachments": {},
   "cell_type": "markdown",
   "metadata": {},
   "source": [
    "# Fill Table"
   ]
  },
  {
   "cell_type": "code",
   "execution_count": 4,
   "metadata": {},
   "outputs": [
    {
     "data": {
      "text/html": [
       "<div>\n",
       "<style scoped>\n",
       "    .dataframe tbody tr th:only-of-type {\n",
       "        vertical-align: middle;\n",
       "    }\n",
       "\n",
       "    .dataframe tbody tr th {\n",
       "        vertical-align: top;\n",
       "    }\n",
       "\n",
       "    .dataframe thead th {\n",
       "        text-align: right;\n",
       "    }\n",
       "</style>\n",
       "<table border=\"1\" class=\"dataframe\">\n",
       "  <thead>\n",
       "    <tr style=\"text-align: right;\">\n",
       "      <th></th>\n",
       "      <th>date</th>\n",
       "      <th>low</th>\n",
       "      <th>open</th>\n",
       "      <th>volume</th>\n",
       "      <th>high</th>\n",
       "      <th>close</th>\n",
       "      <th>difference</th>\n",
       "    </tr>\n",
       "  </thead>\n",
       "  <tbody>\n",
       "    <tr>\n",
       "      <th>0</th>\n",
       "      <td>23-05-2002</td>\n",
       "      <td>1.145714</td>\n",
       "      <td>1.156429</td>\n",
       "      <td>104790000</td>\n",
       "      <td>1.242857</td>\n",
       "      <td>1.196429</td>\n",
       "      <td>None</td>\n",
       "    </tr>\n",
       "    <tr>\n",
       "      <th>1</th>\n",
       "      <td>24-05-2002</td>\n",
       "      <td>1.197143</td>\n",
       "      <td>1.214286</td>\n",
       "      <td>11104800</td>\n",
       "      <td>1.225000</td>\n",
       "      <td>1.210000</td>\n",
       "      <td>None</td>\n",
       "    </tr>\n",
       "    <tr>\n",
       "      <th>2</th>\n",
       "      <td>28-05-2002</td>\n",
       "      <td>1.157143</td>\n",
       "      <td>1.213571</td>\n",
       "      <td>6609400</td>\n",
       "      <td>1.232143</td>\n",
       "      <td>1.157143</td>\n",
       "      <td>None</td>\n",
       "    </tr>\n",
       "    <tr>\n",
       "      <th>3</th>\n",
       "      <td>29-05-2002</td>\n",
       "      <td>1.085714</td>\n",
       "      <td>1.164286</td>\n",
       "      <td>6757800</td>\n",
       "      <td>1.164286</td>\n",
       "      <td>1.103571</td>\n",
       "      <td>None</td>\n",
       "    </tr>\n",
       "    <tr>\n",
       "      <th>4</th>\n",
       "      <td>30-05-2002</td>\n",
       "      <td>1.071429</td>\n",
       "      <td>1.107857</td>\n",
       "      <td>10154200</td>\n",
       "      <td>1.107857</td>\n",
       "      <td>1.071429</td>\n",
       "      <td>None</td>\n",
       "    </tr>\n",
       "  </tbody>\n",
       "</table>\n",
       "</div>"
      ],
      "text/plain": [
       "         date       low      open     volume      high     close difference\n",
       "0  23-05-2002  1.145714  1.156429  104790000  1.242857  1.196429       None\n",
       "1  24-05-2002  1.197143  1.214286   11104800  1.225000  1.210000       None\n",
       "2  28-05-2002  1.157143  1.213571    6609400  1.232143  1.157143       None\n",
       "3  29-05-2002  1.085714  1.164286    6757800  1.164286  1.103571       None\n",
       "4  30-05-2002  1.071429  1.107857   10154200  1.107857  1.071429       None"
      ]
     },
     "execution_count": 4,
     "metadata": {},
     "output_type": "execute_result"
    }
   ],
   "source": [
    "path = 'C:/Users/Blake Dennett/Downloads/Spring2023/appliedProgramming/Data/stock_market_data/sp500/csv/j-p/nflx.csv'\n",
    "df = pd.read_csv(path)\n",
    "# iterate through each row of dataframe\n",
    "for r in df.iterrows():\n",
    "    row = r[1].tolist()\n",
    "    to_insert = tuple(row[0:6])\n",
    "    # add row into db\n",
    "    # cur.execute(f\"INSERT INTO NFLX VALUES {to_insert}\")\n",
    "\n",
    "conn.commit()\n",
    "\n",
    "five_rows = pd.read_sql_query( \n",
    "    'SELECT * FROM NFLX LIMIT 5',\n",
    "    conn)\n",
    "\n",
    "five_rows\n",
    "\n",
    "    "
   ]
  },
  {
   "attachments": {},
   "cell_type": "markdown",
   "metadata": {},
   "source": [
    "# Deleting Duplicate Data"
   ]
  },
  {
   "cell_type": "code",
   "execution_count": 9,
   "metadata": {},
   "outputs": [],
   "source": [
    "# cur.execute(\"DELETE FROM nflx WHERE date NOT IN (SELECT MIN(date) FROM nflx GROUP BY date);\")"
   ]
  },
  {
   "attachments": {},
   "cell_type": "markdown",
   "metadata": {},
   "source": [
    "# Filtering Data"
   ]
  },
  {
   "cell_type": "code",
   "execution_count": 5,
   "metadata": {},
   "outputs": [
    {
     "data": {
      "text/plain": [
       "[('23-05-2002',\n",
       "  1.1457140445709229,\n",
       "  1.1564290523529053,\n",
       "  104790000,\n",
       "  1.2428569793701172,\n",
       "  1.1964290142059326,\n",
       "  None)]"
      ]
     },
     "execution_count": 5,
     "metadata": {},
     "output_type": "execute_result"
    }
   ],
   "source": [
    "cur.execute(\"SELECT * FROM NFLX WHERE date = '23-05-2002'\")\n",
    "cur.fetchall()"
   ]
  },
  {
   "attachments": {},
   "cell_type": "markdown",
   "metadata": {},
   "source": [
    "# Creating New Data Table"
   ]
  },
  {
   "cell_type": "code",
   "execution_count": null,
   "metadata": {},
   "outputs": [],
   "source": [
    "# cur.execute(\"\"\"CREATE TABLE NFLX_ANALYSIS (\n",
    "#             date string,\n",
    "#             difference float\n",
    "# )\"\"\")"
   ]
  },
  {
   "attachments": {},
   "cell_type": "markdown",
   "metadata": {},
   "source": [
    "# Fill Date Column From One Table to Another"
   ]
  },
  {
   "cell_type": "code",
   "execution_count": 25,
   "metadata": {},
   "outputs": [
    {
     "name": "stdout",
     "output_type": "stream",
     "text": [
      "         date       low      open     volume      high     close  difference\n",
      "0  23-05-2002  1.145714  1.156429  104790000  1.242857  1.196429    0.097143\n",
      "1  24-05-2002  1.197143  1.214286   11104800  1.225000  1.210000    0.027857\n",
      "2  28-05-2002  1.157143  1.213571    6609400  1.232143  1.157143    0.075000\n",
      "3  29-05-2002  1.085714  1.164286    6757800  1.164286  1.103571    0.078572\n",
      "4  30-05-2002  1.071429  1.107857   10154200  1.107857  1.071429    0.036428\n"
     ]
    }
   ],
   "source": [
    "data_transfer = \"\"\"INSERT INTO NFLX_ANALYSIS (date) \n",
    "SELECT date FROM NFLX\"\"\"\n",
    "# cur.execute(data_transfer)\n",
    "\n",
    "data_display = \"\"\"SELECT * \n",
    "FROM NFLX_ANALYSIS \n",
    "LIMIT 5\"\"\"\n",
    "\n",
    "print(pd.read_sql_query(data_display, conn))"
   ]
  },
  {
   "attachments": {},
   "cell_type": "markdown",
   "metadata": {},
   "source": [
    "# Use Join to add difference column"
   ]
  },
  {
   "cell_type": "code",
   "execution_count": 29,
   "metadata": {},
   "outputs": [
    {
     "name": "stdout",
     "output_type": "stream",
     "text": [
      "         date  difference\n",
      "0  23-05-2002    0.097143\n",
      "1  24-05-2002    0.027857\n",
      "2  28-05-2002    0.075000\n",
      "3  29-05-2002    0.078572\n",
      "4  30-05-2002    0.036428\n",
      "Empty DataFrame\n",
      "Columns: [date, difference]\n",
      "Index: []\n",
      "         date       low      open     volume      high     close\n",
      "0  23-05-2002  1.145714  1.156429  104790000  1.242857  1.196429\n"
     ]
    }
   ],
   "source": [
    "# make a difference column\n",
    "query = \"\"\"ALTER TABLE NFLX\n",
    "ADD COLUMN difference FLOAT;\"\"\"\n",
    "# cur.execute(query)\n",
    "\n",
    "# subtract the high from the low\n",
    "query = \"\"\"UPDATE NFLX\n",
    "SET difference = high - low\"\"\"\n",
    "# cur.execute(query)\n",
    "\n",
    "# enter difference into NFLX_ANALYSIS\n",
    "diff_transfer = \"\"\"INSERT INTO NFLX_ANALYSIS (difference, date)\n",
    "SELECT difference, date FROM NFLX\"\"\"\n",
    "# cur.execute(diff_transfer)\n",
    "\n",
    "# drop difference column from NFLX\n",
    "query = \"\"\"ALTER TABLE NFLX\n",
    "DROP COLUMN difference;\"\"\"\n",
    "# cur.execute(query)\n",
    "\n",
    "\n",
    "# cur.execute(\"\"\"DELETE FROM NFLX_ANALYSIS\"\"\")\n",
    "\n",
    "\n",
    "print(pd.read_sql_query(\"\"\"SELECT * FROM NFLX_ANALYSIS LIMIT 5\"\"\", conn))\n",
    "print(pd.read_sql_query(\"\"\"SELECT * FROM NFLX_ANALYSIS WHERE date IS NULL\"\"\", conn))\n",
    "print(pd.read_sql_query(\"\"\"SELECT * FROM NFLX WHERE date = '23-05-2002'\"\"\", conn))\n",
    "\n",
    "conn.commit()\n",
    "\n"
   ]
  },
  {
   "cell_type": "markdown",
   "metadata": {},
   "source": [
    "# Deleting Duplicate Rows"
   ]
  },
  {
   "cell_type": "code",
   "execution_count": 23,
   "metadata": {},
   "outputs": [],
   "source": [
    "# keeps last instance of a duplicate\n",
    "query = \"\"\"DELETE FROM NFLX_ANALYSIS \n",
    "WHERE rowid NOT IN (SELECT max(rowid) FROM NFLX_ANALYSIS GROUP BY date)\"\"\"\n",
    "cur.execute(query)\n",
    "\n",
    "query = \"\"\"DELETE FROM NFLX \n",
    "WHERE rowid NOT IN (SELECT max(rowid) FROM NFLX GROUP BY date)\"\"\"\n",
    "cur.execute(query)\n",
    "\n",
    "conn.commit()"
   ]
  },
  {
   "cell_type": "markdown",
   "metadata": {},
   "source": [
    "# Close the Connection"
   ]
  },
  {
   "cell_type": "code",
   "execution_count": null,
   "metadata": {},
   "outputs": [],
   "source": [
    "conn.close()"
   ]
  }
 ],
 "metadata": {
  "kernelspec": {
   "display_name": "Python 3",
   "language": "python",
   "name": "python3"
  },
  "language_info": {
   "codemirror_mode": {
    "name": "ipython",
    "version": 3
   },
   "file_extension": ".py",
   "mimetype": "text/x-python",
   "name": "python",
   "nbconvert_exporter": "python",
   "pygments_lexer": "ipython3",
   "version": "3.10.8"
  },
  "orig_nbformat": 4,
  "polyglot_notebook": {
   "kernelInfo": {
    "defaultKernelName": "csharp",
    "items": [
     {
      "aliases": [],
      "name": "csharp"
     }
    ]
   }
  }
 },
 "nbformat": 4,
 "nbformat_minor": 2
}
