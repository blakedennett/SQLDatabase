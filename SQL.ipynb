{
 "cells": [
  {
   "cell_type": "code",
   "execution_count": 7,
   "metadata": {
    "dotnet_interactive": {
     "language": "csharp"
    },
    "polyglot_notebook": {
     "kernelName": "csharp"
    }
   },
   "outputs": [],
   "source": [
    "import pandas as pd\n",
    "import altair as alt\n",
    "import numpy as np\n",
    "import sqlite3"
   ]
  },
  {
   "attachments": {},
   "cell_type": "markdown",
   "metadata": {},
   "source": [
    "# Create DataBase and Add Table"
   ]
  },
  {
   "cell_type": "code",
   "execution_count": 12,
   "metadata": {
    "dotnet_interactive": {
     "language": "csharp"
    },
    "polyglot_notebook": {
     "kernelName": "csharp"
    }
   },
   "outputs": [],
   "source": [
    "conn = sqlite3.connect('Netflix.db')\n",
    "\n",
    "cur = conn.cursor()\n",
    "\n",
    "# cur.execute(\"\"\"CREATE TABLE nflx (\n",
    "#     date string,\n",
    "#     low float,\n",
    "#     open float,\n",
    "#     volume integer,\n",
    "#     high float,\n",
    "#     close float\n",
    "# )\"\"\")\n",
    "\n",
    "conn.commit()\n",
    "conn.close()"
   ]
  },
  {
   "attachments": {},
   "cell_type": "markdown",
   "metadata": {},
   "source": [
    "# Fill Table"
   ]
  },
  {
   "cell_type": "code",
   "execution_count": 24,
   "metadata": {},
   "outputs": [
    {
     "name": "stdout",
     "output_type": "stream",
     "text": [
      "23-05-2002\n",
      "1.1457140445709229\n",
      "1.1564290523529053\n",
      "104790000\n",
      "1.2428569793701172\n",
      "1.1964290142059326\n",
      "1.1964290142059326\n",
      "24-05-2002\n",
      "1.1971429586410522\n",
      "1.214285969734192\n",
      "11104800\n",
      "1.225000023841858\n",
      "1.2100000381469729\n",
      "1.2100000381469729\n",
      "28-05-2002\n",
      "1.157142996788025\n",
      "1.2135709524154663\n",
      "6609400\n",
      "1.2321430444717407\n",
      "1.157142996788025\n",
      "1.157142996788025\n",
      "29-05-2002\n",
      "1.0857139825820925\n",
      "1.1642860174179075\n",
      "6757800\n",
      "1.1642860174179075\n",
      "1.1035710573196411\n",
      "1.1035710573196411\n",
      "30-05-2002\n",
      "1.0714290142059326\n",
      "1.1078569889068604\n",
      "10154200\n",
      "1.1078569889068604\n",
      "1.0714290142059326\n",
      "1.0714290142059326\n",
      "31-05-2002\n",
      "1.0714290142059326\n",
      "1.0785709619522097\n",
      "8464400\n",
      "1.0785709619522097\n",
      "1.076429009437561\n",
      "1.076429009437561\n"
     ]
    }
   ],
   "source": [
    "path = 'C:/Users/Blake Dennett/Downloads/Spring2023/appliedProgramming/Data/stock_market_data/sp500/csv/j-p/nflx.csv'\n",
    "df = pd.read_csv(path)\n",
    "new_row = []\n",
    "for r in df.iterrows():\n",
    "    row = r[1].tolist()\n",
    "    new_row.append(row[0:5])\n",
    "    # add row into db\n",
    "    for r in row:\n",
    "        print(r)\n",
    "    "
   ]
  }
 ],
 "metadata": {
  "kernelspec": {
   "display_name": "Python 3",
   "language": "python",
   "name": "python3"
  },
  "language_info": {
   "codemirror_mode": {
    "name": "ipython",
    "version": 3
   },
   "file_extension": ".py",
   "mimetype": "text/x-python",
   "name": "python",
   "nbconvert_exporter": "python",
   "pygments_lexer": "ipython3",
   "version": "3.10.8"
  },
  "orig_nbformat": 4,
  "polyglot_notebook": {
   "kernelInfo": {
    "defaultKernelName": "csharp",
    "items": [
     {
      "aliases": [],
      "name": "csharp"
     }
    ]
   }
  }
 },
 "nbformat": 4,
 "nbformat_minor": 2
}
